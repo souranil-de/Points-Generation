{
 "cells": [
  {
   "cell_type": "raw",
   "metadata": {},
   "source": [
    "<h2>Points Generation :</h2>\n",
    "\n",
    "<h3>Introduction :</h3>\n",
    "\n",
    "This notebook shows :\n",
    "\n",
    "1) How a .dxf file is accessed \n",
    "2) How the modelspace is accessed\n",
    "3) How the points in the modelspace are extracted\n",
    "4) How the extracted points are arranged in a list\n",
    "5) How the points in the modelspace are labeled"
   ]
  },
  {
   "cell_type": "markdown",
   "metadata": {},
   "source": [
    "Input File Image :\n",
    "\n",
    "![title](Input.jpg)"
   ]
  },
  {
   "cell_type": "code",
   "execution_count": 2,
   "metadata": {
    "collapsed": true
   },
   "outputs": [],
   "source": [
    "#Extracting the ModelSpace\n",
    "import ezdxf\n",
    "dwg = ezdxf.readfile(\"House.dxf\")\n",
    "msp = dwg.modelspace()\n",
    "\n",
    "#Initializing Variables\n",
    "count=0\n",
    "points = list(())\n",
    "final_points = list(())"
   ]
  },
  {
   "cell_type": "code",
   "execution_count": 3,
   "metadata": {
    "collapsed": true
   },
   "outputs": [],
   "source": [
    "#Extracting all points in the modelspace from LINE endpoints\n",
    "for line in msp.query('LINE') :\n",
    "    start=line.dxf.start\n",
    "    points.append(start)\n",
    "    end=line.dxf.end\n",
    "    points.append(end)\n",
    "    \n",
    "#Removing duplicates\n",
    "for point in points: \n",
    "        if point not in final_points: \n",
    "            final_points.append(point)"
   ]
  },
  {
   "cell_type": "code",
   "execution_count": 4,
   "metadata": {
    "collapsed": true
   },
   "outputs": [],
   "source": [
    "#Printing in the ModelSpace\n",
    "for point in final_points :\n",
    "    msp.add_text(\"P (%d)\" % count,dxfattribs={'height': 12, 'width': 1}).set_pos((point), align='CENTER')    \n",
    "    count=count+1\n",
    "dwg.saveas(\"House_out.dxf\")"
   ]
  },
  {
   "cell_type": "code",
   "execution_count": 5,
   "metadata": {},
   "outputs": [
    {
     "data": {
      "text/plain": [
       "[(2749.856622097754, 2249.703164320688, 0.0),\n",
       " (2510.076308295173, 2002.75883752836, 0.0),\n",
       " (4247.561400293138, 2249.703164320688, 0.0),\n",
       " (4494.719571745556, 1991.701631078034, 0.0),\n",
       " (2753.545542377373, 1247.182910921802, 0.0),\n",
       " (4254.939240852372, 1250.868650701046, 0.0),\n",
       " (2753.545542377373, 2001.402377334668, 0.0),\n",
       " (4254.939240852372, 1993.037538981605, 0.0)]"
      ]
     },
     "execution_count": 5,
     "metadata": {},
     "output_type": "execute_result"
    }
   ],
   "source": [
    "#Printing the list of points :\n",
    "final_points"
   ]
  },
  {
   "cell_type": "markdown",
   "metadata": {},
   "source": [
    "Output File Image :\n",
    "\n",
    "![title](Output.jpg)"
   ]
  }
 ],
 "metadata": {
  "kernelspec": {
   "display_name": "Python 3",
   "language": "python",
   "name": "python3"
  },
  "language_info": {
   "codemirror_mode": {
    "name": "ipython",
    "version": 3
   },
   "file_extension": ".py",
   "mimetype": "text/x-python",
   "name": "python",
   "nbconvert_exporter": "python",
   "pygments_lexer": "ipython3",
   "version": "3.6.3"
  }
 },
 "nbformat": 4,
 "nbformat_minor": 2
}
